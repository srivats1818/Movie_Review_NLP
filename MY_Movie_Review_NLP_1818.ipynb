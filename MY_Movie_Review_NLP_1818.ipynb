{
 "cells": [
  {
   "cell_type": "code",
   "execution_count": 14,
   "metadata": {},
   "outputs": [],
   "source": [
    "import pandas as pd\n",
    "import seaborn as sns\n",
    "import matplotlib.pyplot as plt\n",
    "import numpy as np\n",
    "import nltk\n",
    "#importing necessasry libraries"
   ]
  },
  {
   "cell_type": "code",
   "execution_count": 15,
   "metadata": {},
   "outputs": [
    {
     "data": {
      "text/html": [
       "<div>\n",
       "<style scoped>\n",
       "    .dataframe tbody tr th:only-of-type {\n",
       "        vertical-align: middle;\n",
       "    }\n",
       "\n",
       "    .dataframe tbody tr th {\n",
       "        vertical-align: top;\n",
       "    }\n",
       "\n",
       "    .dataframe thead th {\n",
       "        text-align: right;\n",
       "    }\n",
       "</style>\n",
       "<table border=\"1\" class=\"dataframe\">\n",
       "  <thead>\n",
       "    <tr style=\"text-align: right;\">\n",
       "      <th></th>\n",
       "      <th>review</th>\n",
       "      <th>sentiment</th>\n",
       "    </tr>\n",
       "  </thead>\n",
       "  <tbody>\n",
       "    <tr>\n",
       "      <th>0</th>\n",
       "      <td>One of the other reviewers has mentioned that ...</td>\n",
       "      <td>positive</td>\n",
       "    </tr>\n",
       "    <tr>\n",
       "      <th>1</th>\n",
       "      <td>A wonderful little production. &lt;br /&gt;&lt;br /&gt;The...</td>\n",
       "      <td>positive</td>\n",
       "    </tr>\n",
       "    <tr>\n",
       "      <th>2</th>\n",
       "      <td>I thought this was a wonderful way to spend ti...</td>\n",
       "      <td>positive</td>\n",
       "    </tr>\n",
       "    <tr>\n",
       "      <th>3</th>\n",
       "      <td>Basically there's a family where a little boy ...</td>\n",
       "      <td>negative</td>\n",
       "    </tr>\n",
       "    <tr>\n",
       "      <th>4</th>\n",
       "      <td>Petter Mattei's \"Love in the Time of Money\" is...</td>\n",
       "      <td>positive</td>\n",
       "    </tr>\n",
       "    <tr>\n",
       "      <th>5</th>\n",
       "      <td>Probably my all-time favorite movie, a story o...</td>\n",
       "      <td>positive</td>\n",
       "    </tr>\n",
       "    <tr>\n",
       "      <th>6</th>\n",
       "      <td>I sure would like to see a resurrection of a u...</td>\n",
       "      <td>positive</td>\n",
       "    </tr>\n",
       "    <tr>\n",
       "      <th>7</th>\n",
       "      <td>This show was an amazing, fresh &amp; innovative i...</td>\n",
       "      <td>negative</td>\n",
       "    </tr>\n",
       "    <tr>\n",
       "      <th>8</th>\n",
       "      <td>Encouraged by the positive comments about this...</td>\n",
       "      <td>negative</td>\n",
       "    </tr>\n",
       "    <tr>\n",
       "      <th>9</th>\n",
       "      <td>If you like original gut wrenching laughter yo...</td>\n",
       "      <td>positive</td>\n",
       "    </tr>\n",
       "    <tr>\n",
       "      <th>10</th>\n",
       "      <td>Phil the Alien is one of those quirky films wh...</td>\n",
       "      <td>negative</td>\n",
       "    </tr>\n",
       "    <tr>\n",
       "      <th>11</th>\n",
       "      <td>I saw this movie when I was about 12 when it c...</td>\n",
       "      <td>negative</td>\n",
       "    </tr>\n",
       "    <tr>\n",
       "      <th>12</th>\n",
       "      <td>So im not a big fan of Boll's work but then ag...</td>\n",
       "      <td>negative</td>\n",
       "    </tr>\n",
       "    <tr>\n",
       "      <th>13</th>\n",
       "      <td>The cast played Shakespeare.&lt;br /&gt;&lt;br /&gt;Shakes...</td>\n",
       "      <td>negative</td>\n",
       "    </tr>\n",
       "    <tr>\n",
       "      <th>14</th>\n",
       "      <td>This a fantastic movie of three prisoners who ...</td>\n",
       "      <td>positive</td>\n",
       "    </tr>\n",
       "  </tbody>\n",
       "</table>\n",
       "</div>"
      ],
      "text/plain": [
       "                                               review sentiment\n",
       "0   One of the other reviewers has mentioned that ...  positive\n",
       "1   A wonderful little production. <br /><br />The...  positive\n",
       "2   I thought this was a wonderful way to spend ti...  positive\n",
       "3   Basically there's a family where a little boy ...  negative\n",
       "4   Petter Mattei's \"Love in the Time of Money\" is...  positive\n",
       "5   Probably my all-time favorite movie, a story o...  positive\n",
       "6   I sure would like to see a resurrection of a u...  positive\n",
       "7   This show was an amazing, fresh & innovative i...  negative\n",
       "8   Encouraged by the positive comments about this...  negative\n",
       "9   If you like original gut wrenching laughter yo...  positive\n",
       "10  Phil the Alien is one of those quirky films wh...  negative\n",
       "11  I saw this movie when I was about 12 when it c...  negative\n",
       "12  So im not a big fan of Boll's work but then ag...  negative\n",
       "13  The cast played Shakespeare.<br /><br />Shakes...  negative\n",
       "14  This a fantastic movie of three prisoners who ...  positive"
      ]
     },
     "execution_count": 15,
     "metadata": {},
     "output_type": "execute_result"
    }
   ],
   "source": [
    "messages=pd.read_csv(r\"D:\\databaseR\\MOVIES_Dataset_NLP.csv\")\n",
    "messages.head(15)   \n",
    "#Loading the data and checking the data"
   ]
  },
  {
   "cell_type": "code",
   "execution_count": 16,
   "metadata": {},
   "outputs": [
    {
     "data": {
      "text/plain": [
       "(50000, 2)"
      ]
     },
     "execution_count": 16,
     "metadata": {},
     "output_type": "execute_result"
    }
   ],
   "source": [
    "messages.shape   #checking shape of data"
   ]
  },
  {
   "cell_type": "code",
   "execution_count": 17,
   "metadata": {},
   "outputs": [
    {
     "data": {
      "text/html": [
       "<div>\n",
       "<style scoped>\n",
       "    .dataframe tbody tr th:only-of-type {\n",
       "        vertical-align: middle;\n",
       "    }\n",
       "\n",
       "    .dataframe tbody tr th {\n",
       "        vertical-align: top;\n",
       "    }\n",
       "\n",
       "    .dataframe thead th {\n",
       "        text-align: right;\n",
       "    }\n",
       "</style>\n",
       "<table border=\"1\" class=\"dataframe\">\n",
       "  <thead>\n",
       "    <tr style=\"text-align: right;\">\n",
       "      <th></th>\n",
       "      <th>review</th>\n",
       "      <th>sentiment</th>\n",
       "    </tr>\n",
       "  </thead>\n",
       "  <tbody>\n",
       "    <tr>\n",
       "      <th>0</th>\n",
       "      <td>One of the other reviewers has mentioned that ...</td>\n",
       "      <td>positive</td>\n",
       "    </tr>\n",
       "    <tr>\n",
       "      <th>1</th>\n",
       "      <td>A wonderful little production. &lt;br /&gt;&lt;br /&gt;The...</td>\n",
       "      <td>positive</td>\n",
       "    </tr>\n",
       "    <tr>\n",
       "      <th>2</th>\n",
       "      <td>I thought this was a wonderful way to spend ti...</td>\n",
       "      <td>positive</td>\n",
       "    </tr>\n",
       "    <tr>\n",
       "      <th>3</th>\n",
       "      <td>Basically there's a family where a little boy ...</td>\n",
       "      <td>negative</td>\n",
       "    </tr>\n",
       "    <tr>\n",
       "      <th>4</th>\n",
       "      <td>Petter Mattei's \"Love in the Time of Money\" is...</td>\n",
       "      <td>positive</td>\n",
       "    </tr>\n",
       "  </tbody>\n",
       "</table>\n",
       "</div>"
      ],
      "text/plain": [
       "                                              review sentiment\n",
       "0  One of the other reviewers has mentioned that ...  positive\n",
       "1  A wonderful little production. <br /><br />The...  positive\n",
       "2  I thought this was a wonderful way to spend ti...  positive\n",
       "3  Basically there's a family where a little boy ...  negative\n",
       "4  Petter Mattei's \"Love in the Time of Money\" is...  positive"
      ]
     },
     "execution_count": 17,
     "metadata": {},
     "output_type": "execute_result"
    }
   ],
   "source": [
    "messages = messages.iloc[:,[0,1]]\n",
    "messages.head()"
   ]
  },
  {
   "cell_type": "code",
   "execution_count": 18,
   "metadata": {},
   "outputs": [],
   "source": [
    "# sentiment is my tar var (On which we want to do the prediction) \n",
    "# review is the x variable\n",
    "\n",
    "messages.rename(columns={'review':\"message\",\"sentiment\":\"label\"},inplace =True)"
   ]
  },
  {
   "cell_type": "code",
   "execution_count": 19,
   "metadata": {},
   "outputs": [
    {
     "data": {
      "text/html": [
       "<div>\n",
       "<style scoped>\n",
       "    .dataframe tbody tr th:only-of-type {\n",
       "        vertical-align: middle;\n",
       "    }\n",
       "\n",
       "    .dataframe tbody tr th {\n",
       "        vertical-align: top;\n",
       "    }\n",
       "\n",
       "    .dataframe thead th {\n",
       "        text-align: right;\n",
       "    }\n",
       "</style>\n",
       "<table border=\"1\" class=\"dataframe\">\n",
       "  <thead>\n",
       "    <tr style=\"text-align: right;\">\n",
       "      <th></th>\n",
       "      <th>message</th>\n",
       "      <th>label</th>\n",
       "    </tr>\n",
       "  </thead>\n",
       "  <tbody>\n",
       "    <tr>\n",
       "      <th>0</th>\n",
       "      <td>One of the other reviewers has mentioned that ...</td>\n",
       "      <td>positive</td>\n",
       "    </tr>\n",
       "    <tr>\n",
       "      <th>1</th>\n",
       "      <td>A wonderful little production. &lt;br /&gt;&lt;br /&gt;The...</td>\n",
       "      <td>positive</td>\n",
       "    </tr>\n",
       "    <tr>\n",
       "      <th>2</th>\n",
       "      <td>I thought this was a wonderful way to spend ti...</td>\n",
       "      <td>positive</td>\n",
       "    </tr>\n",
       "    <tr>\n",
       "      <th>3</th>\n",
       "      <td>Basically there's a family where a little boy ...</td>\n",
       "      <td>negative</td>\n",
       "    </tr>\n",
       "    <tr>\n",
       "      <th>4</th>\n",
       "      <td>Petter Mattei's \"Love in the Time of Money\" is...</td>\n",
       "      <td>positive</td>\n",
       "    </tr>\n",
       "  </tbody>\n",
       "</table>\n",
       "</div>"
      ],
      "text/plain": [
       "                                             message     label\n",
       "0  One of the other reviewers has mentioned that ...  positive\n",
       "1  A wonderful little production. <br /><br />The...  positive\n",
       "2  I thought this was a wonderful way to spend ti...  positive\n",
       "3  Basically there's a family where a little boy ...  negative\n",
       "4  Petter Mattei's \"Love in the Time of Money\" is...  positive"
      ]
     },
     "execution_count": 19,
     "metadata": {},
     "output_type": "execute_result"
    }
   ],
   "source": [
    "messages.head()"
   ]
  },
  {
   "cell_type": "code",
   "execution_count": 20,
   "metadata": {},
   "outputs": [],
   "source": [
    "messages.label.replace({\"negative\":0,\"positive\":1},inplace = True)   # replacing the values to 0 and 1"
   ]
  },
  {
   "cell_type": "code",
   "execution_count": 23,
   "metadata": {},
   "outputs": [
    {
     "data": {
      "text/html": [
       "<div>\n",
       "<style scoped>\n",
       "    .dataframe tbody tr th:only-of-type {\n",
       "        vertical-align: middle;\n",
       "    }\n",
       "\n",
       "    .dataframe tbody tr th {\n",
       "        vertical-align: top;\n",
       "    }\n",
       "\n",
       "    .dataframe thead th {\n",
       "        text-align: right;\n",
       "    }\n",
       "</style>\n",
       "<table border=\"1\" class=\"dataframe\">\n",
       "  <thead>\n",
       "    <tr style=\"text-align: right;\">\n",
       "      <th></th>\n",
       "      <th>message</th>\n",
       "      <th>label</th>\n",
       "    </tr>\n",
       "  </thead>\n",
       "  <tbody>\n",
       "    <tr>\n",
       "      <th>0</th>\n",
       "      <td>one of the other reviewers has mentioned that ...</td>\n",
       "      <td>1</td>\n",
       "    </tr>\n",
       "    <tr>\n",
       "      <th>1</th>\n",
       "      <td>a wonderful little production. &lt;br /&gt;&lt;br /&gt;the...</td>\n",
       "      <td>1</td>\n",
       "    </tr>\n",
       "    <tr>\n",
       "      <th>2</th>\n",
       "      <td>i thought this was a wonderful way to spend ti...</td>\n",
       "      <td>1</td>\n",
       "    </tr>\n",
       "    <tr>\n",
       "      <th>3</th>\n",
       "      <td>basically there's a family where a little boy ...</td>\n",
       "      <td>0</td>\n",
       "    </tr>\n",
       "    <tr>\n",
       "      <th>4</th>\n",
       "      <td>petter mattei's \"love in the time of money\" is...</td>\n",
       "      <td>1</td>\n",
       "    </tr>\n",
       "  </tbody>\n",
       "</table>\n",
       "</div>"
      ],
      "text/plain": [
       "                                             message  label\n",
       "0  one of the other reviewers has mentioned that ...      1\n",
       "1  a wonderful little production. <br /><br />the...      1\n",
       "2  i thought this was a wonderful way to spend ti...      1\n",
       "3  basically there's a family where a little boy ...      0\n",
       "4  petter mattei's \"love in the time of money\" is...      1"
      ]
     },
     "execution_count": 23,
     "metadata": {},
     "output_type": "execute_result"
    }
   ],
   "source": [
    "messages.head()"
   ]
  },
  {
   "cell_type": "code",
   "execution_count": 22,
   "metadata": {},
   "outputs": [],
   "source": [
    "#word cloud\n",
    "messages.message = messages.message.str.lower() #comvert into lower case"
   ]
  },
  {
   "cell_type": "code",
   "execution_count": 24,
   "metadata": {},
   "outputs": [],
   "source": [
    "from nltk.corpus import stopwords"
   ]
  },
  {
   "cell_type": "code",
   "execution_count": 25,
   "metadata": {},
   "outputs": [
    {
     "name": "stderr",
     "output_type": "stream",
     "text": [
      "[nltk_data] Downloading package stopwords to\n",
      "[nltk_data]     C:\\Users\\sriva\\AppData\\Roaming\\nltk_data...\n",
      "[nltk_data]   Package stopwords is already up-to-date!\n"
     ]
    },
    {
     "data": {
      "text/plain": [
       "True"
      ]
     },
     "execution_count": 25,
     "metadata": {},
     "output_type": "execute_result"
    }
   ],
   "source": [
    "nltk.download(\"stopwords\")"
   ]
  },
  {
   "cell_type": "code",
   "execution_count": 26,
   "metadata": {},
   "outputs": [],
   "source": [
    "import wordcloud\n",
    "\n",
    "from wordcloud import WordCloud"
   ]
  },
  {
   "cell_type": "code",
   "execution_count": 27,
   "metadata": {},
   "outputs": [],
   "source": [
    "cloud = WordCloud(max_words =20,stopwords=stopwords.words(\"english\")).generate(str(messages['message']))"
   ]
  },
  {
   "cell_type": "code",
   "execution_count": 28,
   "metadata": {},
   "outputs": [
    {
     "data": {
      "text/plain": [
       "<matplotlib.image.AxesImage at 0x24282cf0f70>"
      ]
     },
     "execution_count": 28,
     "metadata": {},
     "output_type": "execute_result"
    },
    {
     "data": {
      "image/png": "[encoded data removed]",
      "text/plain": [
       "<Figure size 720x720 with 1 Axes>"
      ]
     },
     "metadata": {
      "needs_background": "light"
     },
     "output_type": "display_data"
    }
   ],
   "source": [
    "plt.figure(figsize = (10,10))\n",
    "plt.imshow(cloud)"
   ]
  },
  {
   "cell_type": "code",
   "execution_count": 29,
   "metadata": {},
   "outputs": [],
   "source": [
    "#create a seperate word cloud on positive and negative label..."
   ]
  },
  {
   "cell_type": "code",
   "execution_count": 30,
   "metadata": {},
   "outputs": [],
   "source": [
    "df1 = messages.message[messages.label==0] "
   ]
  },
  {
   "cell_type": "code",
   "execution_count": 31,
   "metadata": {},
   "outputs": [],
   "source": [
    "cloud=WordCloud(max_words=20,stopwords=stopwords.words(\"english\")).generate(str(messages[messages.label==0]))\n",
    "# negative label"
   ]
  },
  {
   "cell_type": "code",
   "execution_count": 32,
   "metadata": {},
   "outputs": [
    {
     "data": {
      "text/plain": [
       "<matplotlib.image.AxesImage at 0x24282d742b0>"
      ]
     },
     "execution_count": 32,
     "metadata": {},
     "output_type": "execute_result"
    },
    {
     "data": {
      "image/png": "[encoded data removed]",
      "text/plain": [
       "<Figure size 720x720 with 1 Axes>"
      ]
     },
     "metadata": {
      "needs_background": "light"
     },
     "output_type": "display_data"
    }
   ],
   "source": [
    "plt.figure(figsize = (10,10))\n",
    "plt.imshow(cloud)"
   ]
  },
  {
   "cell_type": "code",
   "execution_count": 33,
   "metadata": {},
   "outputs": [],
   "source": [
    "cloud2=WordCloud(max_words=20, stopwords=stopwords.words(\"english\")).generate(str(messages.message[messages.label==1]))\n",
    "# positive label"
   ]
  },
  {
   "cell_type": "code",
   "execution_count": 34,
   "metadata": {},
   "outputs": [
    {
     "data": {
      "text/plain": [
       "<matplotlib.image.AxesImage at 0x24282dd7520>"
      ]
     },
     "execution_count": 34,
     "metadata": {},
     "output_type": "execute_result"
    },
    {
     "data": {
      "image/png": "[encoded data removed]",
      "text/plain": [
       "<Figure size 720x720 with 1 Axes>"
      ]
     },
     "metadata": {
      "needs_background": "light"
     },
     "output_type": "display_data"
    }
   ],
   "source": [
    "plt.figure(figsize = (10,10))\n",
    "plt.imshow(cloud2)"
   ]
  },
  {
   "cell_type": "code",
   "execution_count": 35,
   "metadata": {},
   "outputs": [],
   "source": [
    "import string"
   ]
  },
  {
   "cell_type": "code",
   "execution_count": 36,
   "metadata": {},
   "outputs": [
    {
     "data": {
      "text/plain": [
       "'!\"#$%&\\'()*+,-./:;<=>?@[\\\\]^_`{|}~'"
      ]
     },
     "execution_count": 36,
     "metadata": {},
     "output_type": "execute_result"
    }
   ],
   "source": [
    "string.punctuation  #shows me the punctuations"
   ]
  },
  {
   "cell_type": "code",
   "execution_count": 37,
   "metadata": {},
   "outputs": [],
   "source": [
    "def text_process(mess):\n",
    "    \"\"\"\n",
    "    1.reomve the puctuation\n",
    "    2.remove the stopwords\n",
    "    3.return the list of clean textwords\n",
    "    \n",
    "    \"\"\"\n",
    "    nopunc = [char for char in mess if char not in string.punctuation]\n",
    "    nopunc = \"\".join(nopunc)\n",
    "    \n",
    "    return [word for word in nopunc.split() if word not in stopwords.words(\"english\")]"
   ]
  },
  {
   "cell_type": "code",
   "execution_count": 38,
   "metadata": {},
   "outputs": [
    {
     "data": {
      "text/plain": [
       "0        [one, reviewers, mentioned, watching, 1, oz, e...\n",
       "1        [wonderful, little, production, br, br, filmin...\n",
       "2        [thought, wonderful, way, spend, time, hot, su...\n",
       "3        [basically, theres, family, little, boy, jake,...\n",
       "4        [petter, matteis, love, time, money, visually,...\n",
       "                               ...                        \n",
       "49995    [thought, movie, right, good, job, wasnt, crea...\n",
       "49996    [bad, plot, bad, dialogue, bad, acting, idioti...\n",
       "49997    [catholic, taught, parochial, elementary, scho...\n",
       "49998    [im, going, disagree, previous, comment, side,...\n",
       "49999    [one, expects, star, trek, movies, high, art, ...\n",
       "Name: message, Length: 50000, dtype: object"
      ]
     },
     "execution_count": 38,
     "metadata": {},
     "output_type": "execute_result"
    }
   ],
   "source": [
    "messages['message'].apply(text_process)"
   ]
  },
  {
   "cell_type": "code",
   "execution_count": 39,
   "metadata": {},
   "outputs": [],
   "source": [
    "from sklearn.feature_extraction.text import CountVectorizer #use to count each and every word\n",
    "\n",
    "bow_transformer = CountVectorizer(analyzer = text_process).fit(messages[\"message\"])"
   ]
  },
  {
   "cell_type": "code",
   "execution_count": 40,
   "metadata": {},
   "outputs": [
    {
     "data": {
      "text/plain": [
       "CountVectorizer(analyzer=<function text_process at 0x0000024282DDCEE0>)"
      ]
     },
     "execution_count": 40,
     "metadata": {},
     "output_type": "execute_result"
    }
   ],
   "source": [
    "bow_transformer"
   ]
  },
  {
   "cell_type": "code",
   "execution_count": 41,
   "metadata": {},
   "outputs": [
    {
     "data": {
      "text/plain": [
       "{'one': 114477,\n",
       " 'reviewers': 134201,\n",
       " 'mentioned': 101307,\n",
       " 'watching': 173946,\n",
       " '1': 90,\n",
       " 'oz': 117289,\n",
       " 'episode': 53060,\n",
       " 'youll': 179968,\n",
       " 'hooked': 76413,\n",
       " 'right': 134852,\n",
       " 'exactly': 54540,\n",
       " 'happened': 71847,\n",
       " 'mebr': 100475,\n",
       " 'br': 22378,\n",
       " 'first': 59825,\n",
       " 'thing': 160687,\n",
       " 'struck': 154084,\n",
       " 'brutality': 23876,\n",
       " 'unflinching': 168292,\n",
       " 'scenes': 139535,\n",
       " 'violence': 172065,\n",
       " 'set': 142924,\n",
       " 'word': 177841,\n",
       " 'go': 67078,\n",
       " 'trust': 165560,\n",
       " 'show': 144965,\n",
       " 'faint': 56439,\n",
       " 'hearted': 73148,\n",
       " 'timid': 162235,\n",
       " 'pulls': 127952,\n",
       " 'punches': 128033,\n",
       " 'regards': 132044,\n",
       " 'drugs': 48574,\n",
       " 'sex': 143136,\n",
       " 'hardcore': 72001,\n",
       " 'classic': 31784,\n",
       " 'use': 169972,\n",
       " 'wordbr': 177844,\n",
       " 'called': 25855,\n",
       " 'nickname': 110075,\n",
       " 'given': 66646,\n",
       " 'oswald': 115857,\n",
       " 'maximum': 99633,\n",
       " 'security': 141252,\n",
       " 'state': 152134,\n",
       " 'penitentary': 119836,\n",
       " 'focuses': 61018,\n",
       " 'mainly': 97050,\n",
       " 'emerald': 51599,\n",
       " 'city': 31516,\n",
       " 'experimental': 55343,\n",
       " 'section': 141223,\n",
       " 'prison': 126165,\n",
       " 'cells': 28379,\n",
       " 'glass': 66763,\n",
       " 'fronts': 63170,\n",
       " 'face': 56170,\n",
       " 'inwards': 82659,\n",
       " 'privacy': 126210,\n",
       " 'high': 74607,\n",
       " 'agenda': 6597,\n",
       " 'em': 51460,\n",
       " 'home': 76057,\n",
       " 'manyaryans': 98142,\n",
       " 'muslims': 107626,\n",
       " 'gangstas': 64544,\n",
       " 'latinos': 90821,\n",
       " 'christians': 30851,\n",
       " 'italians': 83299,\n",
       " 'irish': 82779,\n",
       " 'moreso': 105239,\n",
       " 'scuffles': 140779,\n",
       " 'death': 41225,\n",
       " 'stares': 151920,\n",
       " 'dodgy': 46535,\n",
       " 'dealings': 41173,\n",
       " 'shady': 143449,\n",
       " 'agreements': 6792,\n",
       " 'never': 109674,\n",
       " 'far': 57073,\n",
       " 'awaybr': 14069,\n",
       " 'would': 178299,\n",
       " 'say': 139061,\n",
       " 'main': 97029,\n",
       " 'appeal': 11037,\n",
       " 'due': 48876,\n",
       " 'fact': 56273,\n",
       " 'goes': 67308,\n",
       " 'shows': 145063,\n",
       " 'wouldnt': 178316,\n",
       " 'dare': 40442,\n",
       " 'forget': 61610,\n",
       " 'pretty': 125888,\n",
       " 'pictures': 121540,\n",
       " 'painted': 117629,\n",
       " 'mainstream': 97063,\n",
       " 'audiences': 13442,\n",
       " 'charm': 29461,\n",
       " 'romanceoz': 136037,\n",
       " 'doesnt': 46571,\n",
       " 'mess': 101601,\n",
       " 'around': 11960,\n",
       " 'ever': 54140,\n",
       " 'saw': 139003,\n",
       " 'nasty': 108564,\n",
       " 'surreal': 156240,\n",
       " 'couldnt': 36950,\n",
       " 'ready': 130722,\n",
       " 'watched': 173920,\n",
       " 'developed': 43629,\n",
       " 'taste': 158315,\n",
       " 'got': 68163,\n",
       " 'accustomed': 4760,\n",
       " 'levels': 92391,\n",
       " 'graphic': 68658,\n",
       " 'injustice': 81202,\n",
       " 'crooked': 38584,\n",
       " 'guards': 69787,\n",
       " 'wholl': 176101,\n",
       " 'sold': 148814,\n",
       " 'nickel': 110050,\n",
       " 'inmates': 81236,\n",
       " 'kill': 87805,\n",
       " 'order': 115398,\n",
       " 'get': 65851,\n",
       " 'away': 14062,\n",
       " 'well': 174788,\n",
       " 'mannered': 97947,\n",
       " 'middle': 102200,\n",
       " 'class': 31768,\n",
       " 'turned': 166006,\n",
       " 'bitches': 19397,\n",
       " 'lack': 89778,\n",
       " 'street': 153765,\n",
       " 'skills': 146764,\n",
       " 'experience': 55317,\n",
       " 'may': 99648,\n",
       " 'become': 17046,\n",
       " 'comfortable': 33827,\n",
       " 'uncomfortable': 167555,\n",
       " 'viewingthats': 171788,\n",
       " 'touch': 163640,\n",
       " 'darker': 40493,\n",
       " 'side': 145478,\n",
       " 'wonderful': 177576,\n",
       " 'little': 93760,\n",
       " 'production': 126510,\n",
       " 'filming': 59085,\n",
       " 'technique': 158753,\n",
       " 'unassuming': 167350,\n",
       " 'oldtimebbc': 114205,\n",
       " 'fashion': 57331,\n",
       " 'gives': 66659,\n",
       " 'comforting': 33834,\n",
       " 'sometimes': 149100,\n",
       " 'discomforting': 45313,\n",
       " 'sense': 142365,\n",
       " 'realism': 130783,\n",
       " 'entire': 52824,\n",
       " 'piece': 121585,\n",
       " 'actors': 5295,\n",
       " 'extremely': 55838,\n",
       " 'chosen': 30764,\n",
       " 'michael': 102011,\n",
       " 'sheen': 143967,\n",
       " 'polari': 123413,\n",
       " 'voices': 172519,\n",
       " 'pat': 118948,\n",
       " 'truly': 165521,\n",
       " 'see': 141305,\n",
       " 'seamless': 140924,\n",
       " 'editing': 50323,\n",
       " 'guided': 69917,\n",
       " 'references': 131870,\n",
       " 'williams': 176566,\n",
       " 'diary': 44058,\n",
       " 'entries': 52891,\n",
       " 'worth': 178262,\n",
       " 'terrificly': 159562,\n",
       " 'written': 178651,\n",
       " 'performed': 120270,\n",
       " 'masterful': 99118,\n",
       " 'great': 68869,\n",
       " 'masters': 99159,\n",
       " 'comedy': 33701,\n",
       " 'life': 92715,\n",
       " 'really': 130881,\n",
       " 'comes': 33805,\n",
       " 'things': 160730,\n",
       " 'fantasy': 57000,\n",
       " 'guard': 69767,\n",
       " 'rather': 130312,\n",
       " 'traditional': 164039,\n",
       " 'dream': 48100,\n",
       " 'techniques': 158757,\n",
       " 'remains': 132658,\n",
       " 'solid': 148880,\n",
       " 'disappears': 45125,\n",
       " 'plays': 122638,\n",
       " 'knowledge': 88707,\n",
       " 'senses': 142395,\n",
       " 'particularly': 118637,\n",
       " 'concerning': 34719,\n",
       " 'orton': 115707,\n",
       " 'halliwell': 71243,\n",
       " 'sets': 142959,\n",
       " 'flat': 60287,\n",
       " 'halliwells': 71244,\n",
       " 'murals': 107290,\n",
       " 'decorating': 41661,\n",
       " 'every': 54302,\n",
       " 'surface': 156111,\n",
       " 'terribly': 159540,\n",
       " 'done': 46954,\n",
       " 'thought': 161179,\n",
       " 'way': 174184,\n",
       " 'spend': 150454,\n",
       " 'time': 161955,\n",
       " 'hot': 77036,\n",
       " 'summer': 155359,\n",
       " 'weekend': 174559,\n",
       " 'sitting': 146455,\n",
       " 'air': 7023,\n",
       " 'conditioned': 34867,\n",
       " 'theater': 160055,\n",
       " 'lighthearted': 92942,\n",
       " 'plot': 122841,\n",
       " 'simplistic': 145996,\n",
       " 'dialogue': 43953,\n",
       " 'witty': 177261,\n",
       " 'characters': 29242,\n",
       " 'likable': 93005,\n",
       " 'even': 54077,\n",
       " 'bread': 22755,\n",
       " 'suspected': 156365,\n",
       " 'serial': 142722,\n",
       " 'killer': 87842,\n",
       " 'disappointed': 45137,\n",
       " 'realize': 130855,\n",
       " 'match': 99235,\n",
       " 'point': 123241,\n",
       " '2': 1716,\n",
       " 'risk': 135149,\n",
       " 'addiction': 5577,\n",
       " 'proof': 126907,\n",
       " 'woody': 177750,\n",
       " 'allen': 7823,\n",
       " 'still': 152801,\n",
       " 'fully': 63480,\n",
       " 'control': 35886,\n",
       " 'style': 154461,\n",
       " 'many': 98140,\n",
       " 'us': 169922,\n",
       " 'grown': 69599,\n",
       " 'lovebr': 95119,\n",
       " 'id': 78752,\n",
       " 'laughed': 90918,\n",
       " 'woodys': 177755,\n",
       " 'comedies': 33687,\n",
       " 'years': 179481,\n",
       " 'decade': 41428,\n",
       " 'ive': 83688,\n",
       " 'impressed': 79836,\n",
       " 'scarlet': 139349,\n",
       " 'johanson': 85254,\n",
       " 'managed': 97560,\n",
       " 'tone': 162997,\n",
       " 'sexy': 143308,\n",
       " 'image': 79310,\n",
       " 'jumped': 85933,\n",
       " 'average': 13892,\n",
       " 'spirited': 150677,\n",
       " 'young': 179972,\n",
       " 'womanbr': 177447,\n",
       " 'crown': 38762,\n",
       " 'jewel': 84852,\n",
       " 'career': 26865,\n",
       " 'wittier': 177254,\n",
       " 'devil': 43703,\n",
       " 'wears': 174415,\n",
       " 'prada': 124959,\n",
       " 'interesting': 81987,\n",
       " 'superman': 155763,\n",
       " 'friends': 62923,\n",
       " 'basically': 16167,\n",
       " 'theres': 160505,\n",
       " 'family': 56727,\n",
       " 'boy': 22209,\n",
       " 'jake': 84025,\n",
       " 'thinks': 160829,\n",
       " 'zombie': 180842,\n",
       " 'closet': 32422,\n",
       " 'parents': 118338,\n",
       " 'fighting': 58789,\n",
       " 'timebr': 161986,\n",
       " 'movie': 105985,\n",
       " 'slower': 147552,\n",
       " 'soap': 148409,\n",
       " 'opera': 115066,\n",
       " 'suddenly': 155056,\n",
       " 'decides': 41563,\n",
       " 'rambo': 129822,\n",
       " 'zombiebr': 180848,\n",
       " 'ok': 113985,\n",
       " 'youre': 180034,\n",
       " 'going': 67360,\n",
       " 'make': 97141,\n",
       " 'film': 58919,\n",
       " 'must': 107652,\n",
       " 'decide': 41554,\n",
       " 'thriller': 161391,\n",
       " 'drama': 47894,\n",
       " 'watchable': 173901,\n",
       " 'divorcing': 46218,\n",
       " 'arguing': 11668,\n",
       " 'like': 93017,\n",
       " 'real': 130754,\n",
       " 'totally': 163585,\n",
       " 'ruins': 137000,\n",
       " 'expected': 55254,\n",
       " 'boogeyman': 21359,\n",
       " 'similar': 145887,\n",
       " 'instead': 81615,\n",
       " 'meaningless': 100374,\n",
       " 'spotsbr': 151092,\n",
       " '3': 2299,\n",
       " '10': 91,\n",
       " 'playing': 122608,\n",
       " 'descent': 43103,\n",
       " 'dialogs': 43949,\n",
       " 'shots': 144878,\n",
       " 'ignore': 79019,\n",
       " 'petter': 120830,\n",
       " 'matteis': 99438,\n",
       " 'love': 95100,\n",
       " 'money': 104507,\n",
       " 'visually': 172312,\n",
       " 'stunning': 154325,\n",
       " 'watch': 173897,\n",
       " 'mr': 106560,\n",
       " 'mattei': 99434,\n",
       " 'offers': 113543,\n",
       " 'vivid': 172400,\n",
       " 'portrait': 124222,\n",
       " 'human': 77780,\n",
       " 'relations': 132431,\n",
       " 'seems': 141399,\n",
       " 'telling': 159125,\n",
       " 'power': 124833,\n",
       " 'success': 154923,\n",
       " 'people': 119932,\n",
       " 'different': 44347,\n",
       " 'situations': 146472,\n",
       " 'encounter': 51973,\n",
       " 'variation': 170724,\n",
       " 'arthur': 12170,\n",
       " 'schnitzlers': 139862,\n",
       " 'play': 122533,\n",
       " 'theme': 160184,\n",
       " 'director': 44893,\n",
       " 'transfers': 164305,\n",
       " 'action': 5091,\n",
       " 'present': 125672,\n",
       " 'new': 109725,\n",
       " 'york': 179866,\n",
       " 'meet': 100717,\n",
       " 'connect': 35174,\n",
       " 'connected': 35176,\n",
       " 'another': 10042,\n",
       " 'next': 109897,\n",
       " 'person': 120530,\n",
       " 'know': 88672,\n",
       " 'previous': 125949,\n",
       " 'contact': 35586,\n",
       " 'stylishly': 154493,\n",
       " 'sophisticated': 149406,\n",
       " 'luxurious': 95996,\n",
       " 'look': 94585,\n",
       " 'taken': 157648,\n",
       " 'live': 93805,\n",
       " 'world': 178039,\n",
       " 'habitatbr': 70604,\n",
       " 'gets': 65871,\n",
       " 'souls': 149648,\n",
       " 'picture': 121519,\n",
       " 'stages': 151588,\n",
       " 'loneliness': 94412,\n",
       " 'inhabits': 81097,\n",
       " 'big': 18877,\n",
       " 'best': 18311,\n",
       " 'place': 122219,\n",
       " 'find': 59514,\n",
       " 'sincere': 146068,\n",
       " 'fulfillment': 63412,\n",
       " 'discerns': 45267,\n",
       " 'case': 27470,\n",
       " 'encounterbr': 51975,\n",
       " 'acting': 4985,\n",
       " 'good': 67611,\n",
       " 'direction': 44857,\n",
       " 'steve': 152653,\n",
       " 'buscemi': 24923,\n",
       " 'rosario': 136338,\n",
       " 'dawson': 40875,\n",
       " 'carol': 27154,\n",
       " 'kane': 86493,\n",
       " 'imperioli': 79664,\n",
       " 'adrian': 5895,\n",
       " 'grenier': 69126,\n",
       " 'rest': 133697,\n",
       " 'talented': 157736,\n",
       " 'cast': 27622,\n",
       " 'come': 33649,\n",
       " 'alivebr': 7715,\n",
       " 'wish': 177029,\n",
       " 'luck': 95592,\n",
       " 'await': 14006,\n",
       " 'anxiously': 10655,\n",
       " 'work': 177909,\n",
       " 'probably': 126292,\n",
       " 'alltime': 8039,\n",
       " 'favorite': 57687,\n",
       " 'story': 153291,\n",
       " 'selflessness': 141858,\n",
       " 'sacrifice': 137593,\n",
       " 'dedication': 41714,\n",
       " 'noble': 110618,\n",
       " 'cause': 28072,\n",
       " 'preachy': 125087,\n",
       " 'boring': 21735,\n",
       " 'old': 114117,\n",
       " 'despite': 43334,\n",
       " 'seen': 141407,\n",
       " '15': 632,\n",
       " 'times': 162102,\n",
       " 'last': 90653,\n",
       " '25': 2060,\n",
       " 'paul': 119193,\n",
       " 'lukas': 95717,\n",
       " 'performance': 120199,\n",
       " 'brings': 23262,\n",
       " 'tears': 158685,\n",
       " 'eyes': 55996,\n",
       " 'bette': 18452,\n",
       " 'davis': 40822,\n",
       " 'sympathetic': 157114,\n",
       " 'roles': 135889,\n",
       " 'delight': 42251,\n",
       " 'kids': 87679,\n",
       " 'grandma': 68567,\n",
       " 'says': 139124,\n",
       " 'dressedup': 48233,\n",
       " 'midgets': 102266,\n",
       " 'children': 30311,\n",
       " 'makes': 97183,\n",
       " 'fun': 63527,\n",
       " 'mothers': 105685,\n",
       " 'slow': 147532,\n",
       " 'awakening': 14020,\n",
       " 'whats': 175584,\n",
       " 'happening': 71869,\n",
       " 'roof': 136193,\n",
       " 'believable': 17605,\n",
       " 'startling': 152088,\n",
       " 'dozen': 47755,\n",
       " 'thumbs': 161619,\n",
       " 'theyd': 160585,\n",
       " 'sure': 156078,\n",
       " 'resurrection': 133829,\n",
       " 'dated': 40684,\n",
       " 'seahunt': 140897,\n",
       " 'series': 142741,\n",
       " 'tech': 158721,\n",
       " 'today': 162644,\n",
       " 'bring': 23255,\n",
       " 'back': 14530,\n",
       " 'kid': 87590,\n",
       " 'excitement': 54760,\n",
       " 'mei': 100861,\n",
       " 'grew': 69148,\n",
       " 'black': 19554,\n",
       " 'white': 175908,\n",
       " 'tv': 166146,\n",
       " 'gunsmoke': 70212,\n",
       " 'heros': 74205,\n",
       " 'weekyou': 174591,\n",
       " 'vote': 172701,\n",
       " 'comeback': 33653,\n",
       " 'sea': 140855,\n",
       " 'huntwe': 78125,\n",
       " 'need': 109148,\n",
       " 'change': 28960,\n",
       " 'pace': 117363,\n",
       " 'water': 174019,\n",
       " 'adventureoh': 5997,\n",
       " 'thank': 159893,\n",
       " 'outlet': 116200,\n",
       " 'view': 171737,\n",
       " 'viewpoints': 171797,\n",
       " 'moviesso': 106364,\n",
       " 'ole': 114216,\n",
       " 'believe': 17623,\n",
       " 'wanna': 173396,\n",
       " 'saywould': 139152,\n",
       " 'nice': 109969,\n",
       " 'read': 130676,\n",
       " 'plus': 123074,\n",
       " 'points': 123309,\n",
       " 'huntif': 78108,\n",
       " 'rhymes': 134475,\n",
       " 'lines': 93362,\n",
       " 'let': 92275,\n",
       " 'submitor': 154699,\n",
       " 'leave': 91477,\n",
       " 'doubt': 47489,\n",
       " 'quitif': 129155,\n",
       " 'lets': 92307,\n",
       " 'amazing': 8664,\n",
       " 'fresh': 62776,\n",
       " 'innovative': 81317,\n",
       " 'idea': 78762,\n",
       " '70s': 3339,\n",
       " 'aired': 7052,\n",
       " '7': 3314,\n",
       " '8': 3518,\n",
       " 'brilliant': 23201,\n",
       " 'dropped': 48466,\n",
       " '1990': 1538,\n",
       " 'funny': 63662,\n",
       " 'anymore': 10684,\n",
       " 'continued': 35758,\n",
       " 'decline': 41624,\n",
       " 'complete': 34381,\n",
       " 'waste': 173846,\n",
       " 'todaybr': 162647,\n",
       " 'disgraceful': 45497,\n",
       " 'fallen': 56602,\n",
       " 'writing': 178621,\n",
       " 'painfully': 117591,\n",
       " 'bad': 14736,\n",
       " 'performances': 120231,\n",
       " 'almost': 8168,\n",
       " 'mildly': 102511,\n",
       " 'entertaining': 52732,\n",
       " 'respite': 133658,\n",
       " 'guesthosts': 69866,\n",
       " 'hard': 71983,\n",
       " 'creator': 37951,\n",
       " 'handselected': 71627,\n",
       " 'original': 115553,\n",
       " 'also': 8347,\n",
       " 'chose': 30761,\n",
       " 'band': 15440,\n",
       " 'hacks': 70668,\n",
       " 'followed': 61157,\n",
       " 'recognize': 131347,\n",
       " 'brilliance': 23194,\n",
       " 'fit': 59985,\n",
       " 'replace': 133150,\n",
       " 'mediocrity': 100628,\n",
       " 'felt': 58167,\n",
       " 'give': 66638,\n",
       " 'stars': 152013,\n",
       " 'respect': 133622,\n",
       " 'made': 96546,\n",
       " 'huge': 77687,\n",
       " 'awful': 14133,\n",
       " 'cant': 26466,\n",
       " 'encouraged': 51987,\n",
       " 'positive': 124305,\n",
       " 'comments': 34014,\n",
       " 'looking': 94620,\n",
       " 'forward': 61926,\n",
       " 'mistake': 103721,\n",
       " '950': 3802,\n",
       " 'films': 59214,\n",
       " 'worst': 178234,\n",
       " 'pacing': 117417,\n",
       " 'storyline': 153358,\n",
       " 'soundtrack': 149727,\n",
       " 'song': 149193,\n",
       " 'lame': 90109,\n",
       " 'country': 37098,\n",
       " 'tune': 165856,\n",
       " 'played': 122557,\n",
       " 'less': 92163,\n",
       " 'four': 62036,\n",
       " 'looks': 94640,\n",
       " 'cheap': 29660,\n",
       " 'extreme': 55832,\n",
       " 'rarely': 130199,\n",
       " 'happy': 71920,\n",
       " 'end': 52013,\n",
       " 'credits': 38034,\n",
       " 'prevents': 125936,\n",
       " 'giving': 66664,\n",
       " '1score': 1687,\n",
       " 'harvey': 72400,\n",
       " 'keitel': 87114,\n",
       " 'least': 91428,\n",
       " 'making': 97214,\n",
       " 'bit': 19385,\n",
       " 'effort': 50596,\n",
       " 'obsessives': 113057,\n",
       " 'gut': 70297,\n",
       " 'wrenching': 178458,\n",
       " 'laughter': 90980,\n",
       " 'hell': 73614,\n",
       " 'mom': 104377,\n",
       " 'liked': 93035,\n",
       " 'itbr': 83352,\n",
       " 'camp': 26117,\n",
       " 'phil': 121040,\n",
       " 'alien': 7615,\n",
       " 'quirky': 129131,\n",
       " 'humour': 77971,\n",
       " 'based': 16107,\n",
       " 'oddness': 113345,\n",
       " 'everything': 54341,\n",
       " 'actual': 5445,\n",
       " 'punchlinesbr': 128045,\n",
       " 'odd': 113314,\n",
       " 'progressed': 126703,\n",
       " 'didnt': 44214,\n",
       " 'jokes': 85373,\n",
       " 'anymorebr': 10686,\n",
       " 'low': 95316,\n",
       " 'budget': 24145,\n",
       " 'thats': 159997,\n",
       " 'problem': 126315,\n",
       " 'eventually': 54129,\n",
       " 'lost': 94902,\n",
       " 'interestbr': 81974,\n",
       " 'imagine': 79366,\n",
       " 'stoner': 153110,\n",
       " 'currently': 39392,\n",
       " 'partakingbr': 118569,\n",
       " 'something': 149056,\n",
       " 'better': 18454,\n",
       " 'try': 165610,\n",
       " 'brother': 23630,\n",
       " 'planet': 122372,\n",
       " '12': 391,\n",
       " 'came': 25998,\n",
       " 'recall': 131185,\n",
       " 'scariest': 139340,\n",
       " 'scene': 139467,\n",
       " 'bird': 19263,\n",
       " 'eating': 50029,\n",
       " 'men': 101143,\n",
       " 'dangling': 40308,\n",
       " 'helplessly': 73740,\n",
       " 'parachutes': 118137,\n",
       " 'horror': 76725,\n",
       " 'horrorbr': 76733,\n",
       " 'cheesy': 29850,\n",
       " 'b': 14327,\n",
       " 'saturday': 138842,\n",
       " 'afternoons': 6405,\n",
       " 'tired': 162377,\n",
       " 'formula': 61767,\n",
       " 'monster': 104753,\n",
       " 'type': 166655,\n",
       " 'movies': 106271,\n",
       " 'usually': 170084,\n",
       " 'included': 80190,\n",
       " 'hero': 74144,\n",
       " 'beautiful': 16903,\n",
       " 'woman': 177441,\n",
       " 'might': 102386,\n",
       " 'daughter': 40726,\n",
       " 'professor': 126596,\n",
       " 'resolution': 133575,\n",
       " 'died': 44239,\n",
       " 'care': 26849,\n",
       " 'much': 106751,\n",
       " 'romantic': 136072,\n",
       " 'angle': 9625,\n",
       " 'year': 179433,\n",
       " 'predictable': 125258,\n",
       " 'plots': 122929,\n",
       " 'unintentional': 168586,\n",
       " 'humorbr': 77927,\n",
       " 'later': 90741,\n",
       " 'psycho': 127631,\n",
       " 'loved': 95134,\n",
       " 'star': 151872,\n",
       " 'janet': 84119,\n",
       " 'leigh': 91822,\n",
       " 'bumped': 24577,\n",
       " 'early': 49783,\n",
       " 'sat': 138715,\n",
       " 'took': 163129,\n",
       " 'notice': 111921,\n",
       " 'since': 146057,\n",
       " 'screenwriters': 140577,\n",
       " 'scary': 139376,\n",
       " 'possible': 124362,\n",
       " 'wellworn': 175161,\n",
       " 'rules': 137030,\n",
       " 'im': 79305,\n",
       " 'fan': 56804,\n",
       " 'bolls': 21047,\n",
       " 'enjoyed': 52484,\n",
       " 'postal': 124400,\n",
       " 'maybe': 99659,\n",
       " 'boll': 21034,\n",
       " 'apparently': 11024,\n",
       " 'bought': 21999,\n",
       " 'rights': 134898,\n",
       " 'cry': 38928,\n",
       " 'long': 94433,\n",
       " 'ago': 6724,\n",
       " 'game': 64374,\n",
       " 'finsished': 59692,\n",
       " 'killing': 87901,\n",
       " 'mercs': 101409,\n",
       " 'infiltrating': 80890,\n",
       " 'secret': 141170,\n",
       " 'research': 133437,\n",
       " 'labs': 89743,\n",
       " 'located': 94108,\n",
       " 'tropical': 165340,\n",
       " 'island': 83076,\n",
       " 'warned': 173605,\n",
       " 'schemed': 139701,\n",
       " 'together': 162735,\n",
       " 'along': 8242,\n",
       " 'legion': 91741,\n",
       " 'schmucks': 139841,\n",
       " 'feeling': 58002,\n",
       " 'loneley': 94409,\n",
       " 'invites': 82616,\n",
       " 'three': 161291,\n",
       " 'countrymen': 37116,\n",
       " 'players': 122575,\n",
       " 'names': 108283,\n",
       " 'til': 161901,\n",
       " 'schweiger': 140063,\n",
       " 'udo': 166875,\n",
       " 'kier': 87742,\n",
       " 'ralf': 129782,\n",
       " 'moellerbr': 104205,\n",
       " 'actually': 5454,\n",
       " 'selfs': 141932,\n",
       " 'biz': 19483,\n",
       " 'tale': 157723,\n",
       " 'jack': 83807,\n",
       " 'carver': 27436,\n",
       " 'yes': 179640,\n",
       " 'german': 65728,\n",
       " 'hail': 70825,\n",
       " 'bratwurst': 22666,\n",
       " 'dudes': 48850,\n",
       " 'however': 77356,\n",
       " 'tils': 161924,\n",
       " 'badass': 14758,\n",
       " 'complained': 34351,\n",
       " 'hes': 74319,\n",
       " 'staying': 152275,\n",
       " 'true': 165461,\n",
       " 'whole': 176079,\n",
       " 'perspective': 120609,\n",
       " 'dont': 47047,\n",
       " 'looked': 94606,\n",
       " 'kicking': 87574,\n",
       " 'beyond': 18630,\n",
       " 'demented': 42422,\n",
       " 'evil': 54413,\n",
       " 'mad': 96497,\n",
       " 'scientist': 140113,\n",
       " 'dr': 47776,\n",
       " 'krieger': 89231,\n",
       " 'geneticallymutatedsoldiers': 65411,\n",
       " 'gms': 67052,\n",
       " 'performing': 120279,\n",
       " 'topsecret': 163352,\n",
       " 'reminds': 132785,\n",
       " 'spoiler': 150864,\n",
       " 'vancouver': 170590,\n",
       " 'reason': 130999,\n",
       " 'palm': 117783,\n",
       " 'trees': 164759,\n",
       " 'rich': 134556,\n",
       " 'lumberjackwoods': 95760,\n",
       " 'havent': 72684,\n",
       " 'gone': 67566,\n",
       " 'started': 152063,\n",
       " 'mehehe': 100844,\n",
       " 'cannot': 26430,\n",
       " 'stay': 152265,\n",
       " 'shenanigans': 144111,\n",
       " 'delivers': 42306,\n",
       " 'meaning': 100363,\n",
       " 'suckbr': 154999,\n",
       " 'mentioning': 101315,\n",
       " 'imply': 79753,\n",
       " 'areas': 11563,\n",
       " 'boat': 20660,\n",
       " 'cromedalbino': 38548,\n",
       " 'squad': 151288,\n",
       " 'enters': 52712,\n",
       " 'laugh': 90887,\n",
       " 'reeks': 131769,\n",
       " 'scheisse': 139687,\n",
       " 'poop': 123827,\n",
       " 'simpletons': 145979,\n",
       " 'take': 157632,\n",
       " 'wiff': 176389,\n",
       " 'ahead': 6853,\n",
       " 'btw': 23983,\n",
       " 'annoying': 9982,\n",
       " 'sidekick': 145506,\n",
       " 'shoot': 144649,\n",
       " 'minutes': 103201,\n",
       " 'screen': 140479,\n",
       " 'shakespearebr': 143529,\n",
       " 'shakespeare': 143519,\n",
       " 'lostbr': 94907,\n",
       " 'appreciate': 11204,\n",
       " 'trying': 165620,\n",
       " 'masses': 99057,\n",
       " 'ruin': 136988,\n",
       " 'goodbr': 67633,\n",
       " 'scottish': 140343,\n",
       " 'certain': 28584,\n",
       " 'rev': 134060,\n",
       " 'bowdler': 22113,\n",
       " 'hence': 73807,\n",
       " 'bowdlerization': 22116,\n",
       " 'tried': 165025,\n",
       " 'victorian': 171561,\n",
       " 'erabr': 53213,\n",
       " 'words': 177867,\n",
       " 'improve': 79905,\n",
       " 'perfectionbr': 120149,\n",
       " 'write': 178527,\n",
       " 'ten': 159233,\n",
       " 'text': 159809,\n",
       " 'english': 52366,\n",
       " 'composition': 34497,\n",
       " 'forte': 61841,\n",
       " 'keep': 87060,\n",
       " 'saying': 139088,\n",
       " 'cut': 39529,\n",
       " 'fantastic': 56974,\n",
       " 'prisoners': 126182,\n",
       " 'famous': 56793,\n",
       " 'george': 65645,\n",
       " 'clooney': 32370,\n",
       " 'roll': 135943,\n",
       " 'man': 97551,\n",
       " 'constant': 35480,\n",
       " 'sorrow': 149500,\n",
       " 'recommand': 131377,\n",
       " 'everybody': 54306,\n",
       " 'greetings': 69080,\n",
       " 'bart': 16039,\n",
       " 'kind': 88008,\n",
       " 'drawn': 48054,\n",
       " 'erotic': 53357,\n",
       " 'amateurish': 8624,\n",
       " 'unbelievable': 167409,\n",
       " 'bits': 19438,\n",
       " 'sort': 149520,\n",
       " 'school': 139891,\n",
       " 'project': 126741,\n",
       " 'rosanna': 136334,\n",
       " 'arquette': 11993,\n",
       " 'thinking': 160803,\n",
       " 'stock': 152980,\n",
       " 'bizarre': 19485,\n",
       " 'supposed': 156001,\n",
       " 'midwest': 102358,\n",
       " 'town': 163832,\n",
       " 'involved': 82630,\n",
       " 'lessons': 92209,\n",
       " 'learned': 91393,\n",
       " 'insights': 81471,\n",
       " 'stilted': 152852,\n",
       " 'quite': 129147,\n",
       " 'ridiculous': 134729,\n",
       " 'lots': 94950,\n",
       " 'skin': 146782,\n",
       " 'intrigues': 82390,\n",
       " 'videotaped': 171665,\n",
       " 'nonsensewhat': 111383,\n",
       " 'bisexual': 19355,\n",
       " 'relationship': 132434,\n",
       " 'nowhere': 112284,\n",
       " 'heterosexual': 74382,\n",
       " 'encounters': 51982,\n",
       " 'absurd': 4417,\n",
       " 'dance': 40175,\n",
       " 'stereotyped': 152588,\n",
       " 'pass': 118790,\n",
       " 'million': 102673,\n",
       " 'miles': 102532,\n",
       " 'wasted': 173850,\n",
       " 'could': 36940,\n",
       " 'spent': 150465,\n",
       " 'starving': 152113,\n",
       " 'aids': 6945,\n",
       " 'africa': 6324,\n",
       " 'simply': 146000,\n",
       " 'remade': 132645,\n",
       " 'fails': 56416,\n",
       " 'capture': 26712,\n",
       " 'flavor': 60359,\n",
       " 'terror': 159591,\n",
       " '1963': 1303,\n",
       " 'title': 162458,\n",
       " 'liam': 92519,\n",
       " 'neeson': 109195,\n",
       " 'excellent': 54668,\n",
       " 'always': 8518,\n",
       " 'holds': 75811,\n",
       " 'exception': 54701,\n",
       " 'owen': 117187,\n",
       " 'wilson': 176647,\n",
       " 'feel': 57987,\n",
       " 'character': 29138,\n",
       " 'luke': 95722,\n",
       " 'major': 97117,\n",
       " 'fault': 57600,\n",
       " 'version': 171257,\n",
       " 'strayed': 153729,\n",
       " 'shirley': 144434,\n",
       " 'jackson': 83875,\n",
       " 'attempts': 13235,\n",
       " 'grandiose': 68561,\n",
       " 'thrill': 161385,\n",
       " 'earlier': 49770,\n",
       " 'trade': 164023,\n",
       " 'snazzier': 148117,\n",
       " 'special': 150222,\n",
       " 'effects': 50514,\n",
       " 'enjoy': 52457,\n",
       " 'friction': 62845,\n",
       " 'older': 114137,\n",
       " 'top': 163249,\n",
       " 'horrible': 76674,\n",
       " 'wasnt': 173817,\n",
       " 'continuous': 35777,\n",
       " 'minute': 103190,\n",
       " 'fight': 58769,\n",
       " 'chance': 28895,\n",
       " 'development': 43639,\n",
       " 'busy': 25070,\n",
       " 'running': 137144,\n",
       " 'sword': 156960,\n",
       " 'emotional': 51728,\n",
       " 'attachment': 13186,\n",
       " 'except': 54694,\n",
       " 'machine': 96350,\n",
       " 'wanted': 173428,\n",
       " 'destroy': 43395,\n",
       " 'blatantly': 19895,\n",
       " 'stolen': 153042,\n",
       " 'lotr': 94946,\n",
       " 'wars': 173693,\n",
       " 'matrix': 99400,\n",
       " 'examplesbr': 54602,\n",
       " 'ghost': 65984,\n",
       " 'final': 59453,\n",
       " 'yoda': 179789,\n",
       " 'obee': 112853,\n",
       " 'vader': 170270,\n",
       " 'spider': 150516,\n",
       " 'beginning': 17351,\n",
       " 'frodo': 63093,\n",
       " 'attacked': 13194,\n",
       " 'return': 134013,\n",
       " 'kings': 88100,\n",
       " 'elijah': 51203,\n",
       " 'wood': 177659,\n",
       " 'victim': 171518,\n",
       " 'waitit': 173075,\n",
       " 'hypnotizes': 78502,\n",
       " 'stings': 152882,\n",
       " 'wraps': 178425,\n",
       " 'upuh': 169791,\n",
       " 'hellobr': 73664,\n",
       " 'vs': 172775,\n",
       " 'humans': 77846,\n",
       " 'matrixor': 99407,\n",
       " 'terminatorbr': 159473,\n",
       " 'examples': 54601,\n",
       " 'someone': 149022,\n",
       " 'tell': 159111,\n",
       " 'nazis': 108860,\n",
       " 'juvenile': 86173,\n",
       " 'line': 93315,\n",
       " 'rushed': 137216,\n",
       " 'conclusion': 34766,\n",
       " 'childrens': 30329,\n",
       " 'adult': 5917,\n",
       " 'either': 50882,\n",
       " 'disappointment': 45165,\n",
       " 'save': 138948,\n",
       " ...}"
      ]
     },
     "execution_count": 41,
     "metadata": {},
     "output_type": "execute_result"
    }
   ],
   "source": [
    "bow_transformer.vocabulary_"
   ]
  },
  {
   "cell_type": "code",
   "execution_count": 42,
   "metadata": {},
   "outputs": [
    {
     "data": {
      "text/plain": [
       "181543"
      ]
     },
     "execution_count": 42,
     "metadata": {},
     "output_type": "execute_result"
    }
   ],
   "source": [
    "len(bow_transformer.vocabulary_)  #if convert this to TDM ,my TDM will have 9422 columns"
   ]
  },
  {
   "cell_type": "code",
   "execution_count": 43,
   "metadata": {},
   "outputs": [],
   "source": [
    "messages_bow = bow_transformer.transform(messages.message)"
   ]
  },
  {
   "cell_type": "code",
   "execution_count": 44,
   "metadata": {},
   "outputs": [
    {
     "data": {
      "text/plain": [
       "(50000, 181543)"
      ]
     },
     "execution_count": 44,
     "metadata": {},
     "output_type": "execute_result"
    }
   ],
   "source": [
    "messages_bow.shape"
   ]
  },
  {
   "cell_type": "code",
   "execution_count": 45,
   "metadata": {},
   "outputs": [
    {
     "data": {
      "text/plain": [
       "scipy.sparse.csr.csr_matrix"
      ]
     },
     "execution_count": 45,
     "metadata": {},
     "output_type": "execute_result"
    }
   ],
   "source": [
    "type(messages_bow)"
   ]
  },
  {
   "cell_type": "markdown",
   "metadata": {},
   "source": [
    "# DECISION TREE"
   ]
  },
  {
   "cell_type": "code",
   "execution_count": 46,
   "metadata": {},
   "outputs": [],
   "source": [
    "from sklearn.model_selection import train_test_split\n",
    "x_train,x_test,y_train,y_test= train_test_split(messages_bow,messages.label,test_size=.2)"
   ]
  },
  {
   "cell_type": "code",
   "execution_count": 91,
   "metadata": {},
   "outputs": [],
   "source": [
    "from sklearn.tree import DecisionTreeClassifier\n",
    "from sklearn.metrics import confusion_matrix\n",
    "dt=DecisionTreeClassifier(criterion=\"entropy\",max_depth=7)"
   ]
  },
  {
   "cell_type": "code",
   "execution_count": 92,
   "metadata": {},
   "outputs": [
    {
     "data": {
      "text/plain": [
       "array([[2655,  633],\n",
       "       [2260, 4452]], dtype=int64)"
      ]
     },
     "execution_count": 92,
     "metadata": {},
     "output_type": "execute_result"
    }
   ],
   "source": [
    "dt.fit(x_train,y_train)\n",
    "pred_dt = dt.predict(x_test)\n",
    "\n",
    "tab_dt = confusion_matrix(pred_dt,y_test)\n",
    "tab_dt"
   ]
  },
  {
   "cell_type": "code",
   "execution_count": 93,
   "metadata": {},
   "outputs": [
    {
     "data": {
      "text/plain": [
       "71.07"
      ]
     },
     "execution_count": 93,
     "metadata": {},
     "output_type": "execute_result"
    }
   ],
   "source": [
    "Accuracy = tab_dt.diagonal().sum() / tab_dt.sum()*100\n",
    "Accuracy"
   ]
  },
  {
   "cell_type": "code",
   "execution_count": 94,
   "metadata": {},
   "outputs": [],
   "source": [
    "# criterion=\"entropy\",max_depth=4 --------  Accuracy =68 %\n",
    "# criterion=\"entropy\",max_depth=5 --------  Accuracy = 69.6 %\n",
    "# criterion=\"entropy\",max_depth=6 --------  Accuracy = 96.84 %\n",
    "# criterion=\"entropy\",max_depth=7 --------  Accuracy = 71.07 %"
   ]
  },
  {
   "cell_type": "code",
   "execution_count": 95,
   "metadata": {},
   "outputs": [],
   "source": [
    "# Decision Tree gives accuracy of 71.07 %..."
   ]
  },
  {
   "cell_type": "markdown",
   "metadata": {},
   "source": [
    "# RANDOM FOREST"
   ]
  },
  {
   "cell_type": "code",
   "execution_count": 81,
   "metadata": {},
   "outputs": [],
   "source": [
    "from sklearn.ensemble import RandomForestClassifier \n",
    "rf= RandomForestClassifier(n_estimators =150, max_depth=4 )"
   ]
  },
  {
   "cell_type": "code",
   "execution_count": 82,
   "metadata": {},
   "outputs": [
    {
     "data": {
      "text/plain": [
       "RandomForestClassifier(max_depth=4, n_estimators=150)"
      ]
     },
     "execution_count": 82,
     "metadata": {},
     "output_type": "execute_result"
    }
   ],
   "source": [
    "rf.fit(x_train,y_train)"
   ]
  },
  {
   "cell_type": "code",
   "execution_count": 83,
   "metadata": {},
   "outputs": [
    {
     "data": {
      "text/plain": [
       "array([[4013,  999],\n",
       "       [ 902, 4086]], dtype=int64)"
      ]
     },
     "execution_count": 83,
     "metadata": {},
     "output_type": "execute_result"
    }
   ],
   "source": [
    "#rf.fit(cr_x_train , cr_y_train)\n",
    "pred_rf=rf.predict(x_test)\n",
    "\n",
    "tab_rf= confusion_matrix(pred_rf,y_test)\n",
    "tab_rf"
   ]
  },
  {
   "cell_type": "code",
   "execution_count": 84,
   "metadata": {},
   "outputs": [
    {
     "data": {
      "text/plain": [
       "0.8099"
      ]
     },
     "execution_count": 84,
     "metadata": {},
     "output_type": "execute_result"
    }
   ],
   "source": [
    "Accuracy =tab_rf.diagonal().sum()/tab_rf.sum()\n",
    "Accuracy"
   ]
  },
  {
   "cell_type": "code",
   "execution_count": 79,
   "metadata": {},
   "outputs": [],
   "source": [
    "# n_estimators = 100 ----------- accuracy=85.5%\n",
    "# n_estimators =100, max_depth=6 ------ accuracy=81.87%\n",
    "# n_estimators = 150 --------- accuracy=85.5%\n",
    "# n_estimators =150, max_depth=4 --- accuracy=81.62%\n",
    "# n_estimators =150, max_depth=5 --- accuracy=81.25 %\n",
    "# n_estimators =200, max_depth=5 --- accuracy=83.05%\n",
    "# n_estimators =200, max_depth=6 --- accuracy=83.26%"
   ]
  },
  {
   "cell_type": "code",
   "execution_count": null,
   "metadata": {},
   "outputs": [],
   "source": [
    "# Random Forest gives accuracy of 85.5%..."
   ]
  },
  {
   "cell_type": "markdown",
   "metadata": {},
   "source": [
    "# NAIVE BAYES"
   ]
  },
  {
   "cell_type": "code",
   "execution_count": 54,
   "metadata": {},
   "outputs": [],
   "source": [
    "from sklearn.naive_bayes import MultinomialNB\n",
    "from sklearn.metrics import confusion_matrix"
   ]
  },
  {
   "cell_type": "code",
   "execution_count": 55,
   "metadata": {},
   "outputs": [],
   "source": [
    "naive_bayes = MultinomialNB()"
   ]
  },
  {
   "cell_type": "code",
   "execution_count": 56,
   "metadata": {},
   "outputs": [
    {
     "data": {
      "text/plain": [
       "array([[4356,  843],\n",
       "       [ 559, 4242]], dtype=int64)"
      ]
     },
     "execution_count": 56,
     "metadata": {},
     "output_type": "execute_result"
    }
   ],
   "source": [
    "naive_bayes.fit(x_train,y_train)\n",
    "pred_nb = naive_bayes.predict(x_test)\n",
    "tab_nb = confusion_matrix(pred_nb,y_test)\n",
    "tab_nb"
   ]
  },
  {
   "cell_type": "code",
   "execution_count": 58,
   "metadata": {},
   "outputs": [
    {
     "data": {
      "text/plain": [
       "0.8598"
      ]
     },
     "execution_count": 58,
     "metadata": {},
     "output_type": "execute_result"
    }
   ],
   "source": [
    "Accuracy=tab_nb.diagonal().sum()/tab_nb.sum()\n",
    "Accuracy"
   ]
  },
  {
   "cell_type": "code",
   "execution_count": null,
   "metadata": {},
   "outputs": [],
   "source": [
    "# Naive Bayes gives accuracy of 85.98%..."
   ]
  },
  {
   "cell_type": "markdown",
   "metadata": {},
   "source": [
    "# Conclusion"
   ]
  },
  {
   "cell_type": "code",
   "execution_count": 80,
   "metadata": {},
   "outputs": [],
   "source": [
    "#On applying Decision Tree, Random Forest, Naive Bayes above we get best  Accuracy of 85.98% from Naive Bayes..."
   ]
  }
 ],
 "metadata": {
  "kernelspec": {
   "display_name": "Python 3",
   "language": "python",
   "name": "python3"
  },
  "language_info": {
   "codemirror_mode": {
    "name": "ipython",
    "version": 3
   },
   "file_extension": ".py",
   "mimetype": "text/x-python",
   "name": "python",
   "nbconvert_exporter": "python",
   "pygments_lexer": "ipython3",
   "version": "3.8.3"
  }
 },
 "nbformat": 4,
 "nbformat_minor": 4
}
